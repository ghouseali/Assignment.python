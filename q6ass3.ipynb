{
 "cells": [
  {
   "cell_type": "code",
   "execution_count": 1,
   "metadata": {},
   "outputs": [
    {
     "name": "stdout",
     "output_type": "stream",
     "text": [
      "Welcome to my first PYTHON BATCH-4 assignment # 3 calculator\n",
      "Press 1 for Addition\n",
      "Press 2 for Substraction\n",
      "Press 3 Multiplication\n",
      "Press 4 Division\n"
     ]
    },
    {
     "name": "stdin",
     "output_type": "stream",
     "text": [
      "Please select your operation you want to perform by entering number accordingly mentioned above:  3\n",
      "Enter Your First Number:  3\n",
      "Enter Your Second Number:  6\n"
     ]
    },
    {
     "name": "stdout",
     "output_type": "stream",
     "text": [
      "Multiplication of two numbers is:  18\n"
     ]
    }
   ],
   "source": [
    "print(\"Welcome to my first PYTHON BATCH-4 assignment # 3 calculator\")\n",
    "print(\"Press 1 for Addition\")\n",
    "print(\"Press 2 for Substraction\")\n",
    "print(\"Press 3 Multiplication\")\n",
    "print(\"Press 4 Division\")\n",
    "\n",
    "selection_is=int(input(\"Please select your operation you want to perform by entering number accordingly mentioned above: \"))\n",
    "\n",
    "if selection_is==1:\n",
    "    num1=int(input(\"Enter Your First Number: \"))\n",
    "    num2=int(input(\"Enter Your Second Number: \"))\n",
    "    result=num1+num2\n",
    "    print(\"Addition of two numbers is: \",result)\n",
    "elif selection_is==2:\n",
    "    num1=int(input(\"Enter Your First Number: \"))\n",
    "    num2=int(input(\"Enter Your Second Number: \"))\n",
    "    result=num1-num2\n",
    "    print(\"Substraction of two numbers is: \",result)\n",
    "elif  selection_is==3:\n",
    "    num1=int(input(\"Enter Your First Number: \"))\n",
    "    num2=int(input(\"Enter Your Second Number: \"))\n",
    "    result=num1*num2\n",
    "    print(\"Multiplication of two numbers is: \",result)\n",
    "elif selection_is==4:\n",
    "    num1=int(input(\"Enter Your First Number: \"))\n",
    "    num2=int(input(\"Enter Your Second Number: \"))\n",
    "    result=num1/num2\n",
    "    print(\"Division of two numbers is: \",result)\n",
    "else:\n",
    "    print(\"Sorry You Entered invalid Number or Wrong input\")"
   ]
  },
  {
   "cell_type": "code",
   "execution_count": null,
   "metadata": {},
   "outputs": [],
   "source": []
  }
 ],
 "metadata": {
  "kernelspec": {
   "display_name": "Python 3",
   "language": "python",
   "name": "python3"
  },
  "language_info": {
   "codemirror_mode": {
    "name": "ipython",
    "version": 3
   },
   "file_extension": ".py",
   "mimetype": "text/x-python",
   "name": "python",
   "nbconvert_exporter": "python",
   "pygments_lexer": "ipython3",
   "version": "3.7.4"
  }
 },
 "nbformat": 4,
 "nbformat_minor": 4
}
