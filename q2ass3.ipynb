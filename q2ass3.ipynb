{
 "cells": [
  {
   "cell_type": "code",
   "execution_count": 1,
   "metadata": {},
   "outputs": [
    {
     "name": "stdout",
     "output_type": "stream",
     "text": [
      "Duplicates are:  [12]\n",
      "Uniques are:  {3: 1, 6: 1, 9: 1, 30: 1, 15: 1, 45: 1, 36: 1, 12: 2}\n"
     ]
    }
   ],
   "source": [
    "lst = [3, 6, 9, 3, 30, 15, 9, 45, 36, 12, 12]\n",
    "dupItems = []\n",
    "uniqItems = {}\n",
    "for x in lst:\n",
    "    if x not in uniqItems:\n",
    "        uniqItems[x] = 1\n",
    "else:\n",
    "    if uniqItems[x] == 1:\n",
    "        dupItems.append(x)\n",
    "        uniqItems[x] += 1\n",
    "print(\"Duplicates are: \",dupItems)\n",
    "print(\"Uniques are: \", uniqItems)"
   ]
  },
  {
   "cell_type": "code",
   "execution_count": null,
   "metadata": {},
   "outputs": [],
   "source": []
  }
 ],
 "metadata": {
  "kernelspec": {
   "display_name": "Python 3",
   "language": "python",
   "name": "python3"
  },
  "language_info": {
   "codemirror_mode": {
    "name": "ipython",
    "version": 3
   },
   "file_extension": ".py",
   "mimetype": "text/x-python",
   "name": "python",
   "nbconvert_exporter": "python",
   "pygments_lexer": "ipython3",
   "version": "3.7.4"
  }
 },
 "nbformat": 4,
 "nbformat_minor": 4
}
