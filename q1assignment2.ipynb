{
 "cells": [
  {
   "cell_type": "code",
   "execution_count": 7,
   "metadata": {},
   "outputs": [
    {
     "name": "stdout",
     "output_type": "stream",
     "text": [
      "Enter Marks of Physics65\n",
      "Enter Marks of English73\n",
      "Enter Marks of Web Engineering55\n",
      "Enter Marks of Computer Graphics88\n",
      "Enter Marks of Calculus92\n",
      "74\n",
      "Your Grade is B\n"
     ]
    }
   ],
   "source": [
    "physics = int(input(\"Enter Marks of Physics\"))\n",
    "english = int(input(\"Enter Marks of English\"))\n",
    "web_engineering = int(input(\"Enter Marks of Web Engineering\"))\n",
    "computer_graphics = int(input(\"Enter Marks of Computer Graphics\"))\n",
    "calculus = int(input(\"Enter Marks of Calculus\"))\n",
    "\n",
    "marks_obtained= physics+english+web_engineering+computer_graphics+calculus\n",
    "total_marks = 500\n",
    "percentage = int(marks_obtained / total_marks*100)\n",
    "print(percentage)\n",
    "\n",
    "if percentage >= 90 and percentage <= 100:\n",
    "    print(\"Your Grade is A+\")\n",
    "elif percentage >=80 and percentage <=90:\n",
    "    print(\"Your Grade is A\")\n",
    "elif percentage >=70 and percentage <=80:\n",
    "    print(\"Your Grade is B\")\n",
    "elif percentage >=60 and percentage <=70:\n",
    "    print(\"Your Grade is C\")\n",
    "elif percentage >=50 and percentage <=60:\n",
    "    print(\"Your Grade is D\")\n",
    "elif percentage >=40 and percentage <=50:\n",
    "    print(\"Your Grade is F\")\n",
    "elif percentage >=0 and percentage <=40:\n",
    "    print(\"You are Fail\")\n",
    "else:\n",
    "    print(\"You Enter Invalid Marks\")"
   ]
  },
  {
   "cell_type": "code",
   "execution_count": null,
   "metadata": {},
   "outputs": [],
   "source": []
  },
  {
   "cell_type": "code",
   "execution_count": null,
   "metadata": {},
   "outputs": [],
   "source": []
  }
 ],
 "metadata": {
  "kernelspec": {
   "display_name": "Python 3",
   "language": "python",
   "name": "python3"
  },
  "language_info": {
   "codemirror_mode": {
    "name": "ipython",
    "version": 3
   },
   "file_extension": ".py",
   "mimetype": "text/x-python",
   "name": "python",
   "nbconvert_exporter": "python",
   "pygments_lexer": "ipython3",
   "version": "3.7.4"
  }
 },
 "nbformat": 4,
 "nbformat_minor": 2
}
