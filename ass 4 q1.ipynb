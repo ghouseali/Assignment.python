{
 "cells": [
  {
   "cell_type": "code",
   "execution_count": 3,
   "metadata": {},
   "outputs": [],
   "source": [
    "Person = {\"first_name\" : \"fatima\", \"last_name\" : \"arif\", \"age\" : \"20\", \"city\" : \"Karachi\"}"
   ]
  },
  {
   "cell_type": "code",
   "execution_count": 4,
   "metadata": {},
   "outputs": [
    {
     "name": "stdout",
     "output_type": "stream",
     "text": [
      "first_name: fatima\n",
      "last_name: arif\n",
      "age: 20\n",
      "city: Karachi\n"
     ]
    }
   ],
   "source": [
    "for key,value in Person.items():\n",
    "    print(key + \": \" + value)"
   ]
  },
  {
   "cell_type": "code",
   "execution_count": 5,
   "metadata": {},
   "outputs": [
    {
     "name": "stdout",
     "output_type": "stream",
     "text": [
      "first_name: fatima\n",
      "last_name: arif\n",
      "age: 20\n",
      "city: Karachi\n",
      "qualification: Undergraduate\n"
     ]
    }
   ],
   "source": [
    "Person[\"qualification\"] = \"Undergraduate\"\n",
    "\n",
    "for key,value in Person.items():\n",
    "    print(key + \": \" + value)"
   ]
  },
  {
   "cell_type": "code",
   "execution_count": 6,
   "metadata": {},
   "outputs": [
    {
     "name": "stdout",
     "output_type": "stream",
     "text": [
      "first_name: fatima\n",
      "last_name: arif\n",
      "age: 20\n",
      "city: Karachi\n"
     ]
    }
   ],
   "source": [
    "del Person[\"qualification\"]\n",
    "for key,value in Person.items():\n",
    "    print(key + \": \" + value)"
   ]
  },
  {
   "cell_type": "code",
   "execution_count": null,
   "metadata": {},
   "outputs": [],
   "source": []
  }
 ],
 "metadata": {
  "kernelspec": {
   "display_name": "Python 3",
   "language": "python",
   "name": "python3"
  },
  "language_info": {
   "codemirror_mode": {
    "name": "ipython",
    "version": 3
   },
   "file_extension": ".py",
   "mimetype": "text/x-python",
   "name": "python",
   "nbconvert_exporter": "python",
   "pygments_lexer": "ipython3",
   "version": "3.7.4"
  }
 },
 "nbformat": 4,
 "nbformat_minor": 2
}
